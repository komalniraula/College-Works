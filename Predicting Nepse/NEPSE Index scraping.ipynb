{
 "cells": [
  {
   "cell_type": "code",
   "execution_count": 1,
   "id": "46a0df6a",
   "metadata": {},
   "outputs": [],
   "source": [
    "from selenium import webdriver\n",
    "from datetime import datetime, timedelta\n",
    "from bs4 import BeautifulSoup\n",
    "import pandas as pd\n",
    "from selenium.common.exceptions import NoSuchElementException\n",
    "import sys\n",
    "from selenium.webdriver.common.keys import Keys\n",
    "from selenium.common.exceptions import NoSuchElementException\n",
    "from selenium.webdriver.common.action_chains import ActionChains\n",
    "from msedge.selenium_tools import Edge\n",
    "from msedge.selenium_tools import EdgeOptions\n",
    "import time\n",
    "import requests\n",
    "import html.parser\n",
    "import itertools\n",
    "import urllib.request\n",
    "import re"
   ]
  },
  {
   "cell_type": "code",
   "execution_count": 2,
   "id": "508cff70",
   "metadata": {},
   "outputs": [],
   "source": [
    "url = 'https://www.sharesansar.com/index-history-data'\n",
    "response = requests.get(url)"
   ]
  },
  {
   "cell_type": "code",
   "execution_count": 3,
   "id": "28b45d66",
   "metadata": {},
   "outputs": [
    {
     "name": "stderr",
     "output_type": "stream",
     "text": [
      "C:\\Users\\lenovo\\AppData\\Local\\Temp\\ipykernel_15472\\681070006.py:3: DeprecationWarning: Selenium Tools for Microsoft Edge is deprecated. Please upgrade to Selenium 4 which has built-in support for Microsoft Edge (Chromium): https://docs.microsoft.com/en-us/microsoft-edge/webdriver-chromium/#upgrading-from-selenium-3\n",
      "  driver = Edge(options=options, executable_path=r\"C:\\Users\\lenovo\\Downloads\\edgedriver_win64\\msedgedriver.exe\")\n"
     ]
    }
   ],
   "source": [
    "options = EdgeOptions()\n",
    "options.use_chromium = True\n",
    "driver = Edge(options=options, executable_path=r\"C:\\Users\\lenovo\\Downloads\\edgedriver_win64\\msedgedriver.exe\")"
   ]
  },
  {
   "cell_type": "code",
   "execution_count": null,
   "id": "d451077b",
   "metadata": {},
   "outputs": [],
   "source": [
    "url = 'https://www.sharesansar.com/index-history-data'\n",
    "response = requests.get(url)\n",
    "\n",
    "options = EdgeOptions()\n",
    "options.use_chromium = True\n",
    "driver = Edge(options=options, executable_path=r\"C:\\Users\\lenovo\\Downloads\\edgedriver_win64\\msedgedriver.exe\")\n",
    "\n",
    "driver.get(url)\n",
    "from_date_element = driver.find_element_by_name('fromDate')\n",
    "from_date_element.clear();\n",
    "from_date_element.send_keys('2015-09-17')\n",
    "from_date_element.click();\n",
    "\n",
    "to_date_element = driver.find_element_by_name('toDate')\n",
    "to_date_element.clear();\n",
    "to_date_element.send_keys('2023-09-18')\n",
    "to_date_element.click();\n",
    "to_date_element.send_keys(Keys.TAB);"
   ]
  },
  {
   "cell_type": "code",
   "execution_count": 4,
   "id": "da5c735d",
   "metadata": {},
   "outputs": [],
   "source": [
    "url = 'https://www.sharesansar.com/index-history-data'\n",
    "response = requests.get(url)\n",
    "\n",
    "options = EdgeOptions()\n",
    "options.use_chromium = True\n",
    "driver = Edge(options=options, executable_path=r\"C:\\Users\\lenovo\\Downloads\\edgedriver_win64\\msedgedriver.exe\")\n",
    "\n",
    "driver.get(url)\n",
    "from_date_element = driver.find_element_by_name('fromDate')\n",
    "from_date_element.clear();\n",
    "from_date_element.send_keys('2015-09-17')\n",
    "from_date_element.click();\n",
    "\n",
    "to_date_element = driver.find_element_by_name('toDate')\n",
    "to_date_element.clear();\n",
    "to_date_element.send_keys('2023-09-18')\n",
    "to_date_element.click();\n",
    "to_date_element.send_keys(Keys.TAB);"
   ]
  },
  {
   "cell_type": "code",
   "execution_count": 5,
   "id": "a4940771",
   "metadata": {},
   "outputs": [],
   "source": [
    "time.sleep(10)\n",
    "driver. minimize_window()\n",
    "driver.find_element_by_xpath('//*[@id=\"btn_indxhis_submit\"]').click()"
   ]
  },
  {
   "cell_type": "code",
   "execution_count": 6,
   "id": "3a9e257b",
   "metadata": {},
   "outputs": [
    {
     "name": "stdout",
     "output_type": "stream",
     "text": [
      "       Open     High      Low    Close  Change  Per Change (%)      Turnover  \\\n",
      "0   1965.44  1974.60  1953.15  1969.18    4.26            0.21  8.704442e+08   \n",
      "1   2009.98  2010.02  1961.67  1964.91  -42.14           -2.09  2.028466e+09   \n",
      "2   1967.26  2007.06  1967.26  2007.06   39.48            2.00  1.495522e+09   \n",
      "3   1987.16  1998.17  1962.97  1967.57  -19.42           -0.97  1.135058e+09   \n",
      "4   1942.98  1986.99  1942.25  1986.99   44.30            2.28  1.518343e+09   \n",
      "5   1933.25  1946.60  1933.12  1942.68   10.23            0.52  1.072212e+09   \n",
      "6   1960.72  1960.72  1930.52  1932.45  -28.92           -1.47  1.150921e+09   \n",
      "7   1966.80  1973.70  1954.37  1961.37   -6.45           -0.32  7.968704e+08   \n",
      "8   1960.78  1977.43  1946.71  1967.83    7.04            0.35  1.099140e+09   \n",
      "9   1990.81  1991.04  1959.14  1960.78  -29.81           -1.49  1.186618e+09   \n",
      "10  1994.63  2001.43  1985.47  1990.59   -2.82           -0.14  1.130008e+09   \n",
      "11  1999.00  2002.70  1988.83  1993.42   -5.05           -0.25  8.651205e+08   \n",
      "12  1994.03  2009.37  1989.97  1998.48    5.09            0.25  9.886286e+08   \n",
      "13  2014.20  2015.85  1989.42  1993.38  -20.54           -1.02  1.262768e+09   \n",
      "14  2045.85  2052.02  2009.10  2013.93  -31.52           -1.54  1.550583e+09   \n",
      "15  2016.79  2047.87  2016.06  2045.45   29.47            1.46  1.510489e+09   \n",
      "16  1998.14  2015.98  1990.34  2015.98   17.69            0.88  1.332565e+09   \n",
      "17  2012.45  2019.41  1991.94  1998.28  -12.93           -0.64  1.408982e+09   \n",
      "18  2033.20  2034.49  2008.13  2011.22  -21.91           -1.07  1.447409e+09   \n",
      "19  2025.98  2042.35  2025.73  2033.13    8.01            0.39  1.541367e+09   \n",
      "\n",
      "          Date  \n",
      "0   2023-09-18  \n",
      "1   2023-09-17  \n",
      "2   2023-09-13  \n",
      "3   2023-09-12  \n",
      "4   2023-09-11  \n",
      "5   2023-09-10  \n",
      "6   2023-09-07  \n",
      "7   2023-09-05  \n",
      "8   2023-09-04  \n",
      "9   2023-09-03  \n",
      "10  2023-08-30  \n",
      "11  2023-08-29  \n",
      "12  2023-08-28  \n",
      "13  2023-08-27  \n",
      "14  2023-08-24  \n",
      "15  2023-08-23  \n",
      "16  2023-08-22  \n",
      "17  2023-08-21  \n",
      "18  2023-08-20  \n",
      "19  2023-08-17  \n"
     ]
    }
   ],
   "source": [
    "time.sleep(10)\n",
    "df = pd.read_html(driver.page_source)[0]\n",
    "df = df.drop(['S.N.'], axis=1)\n",
    "print(df)"
   ]
  },
  {
   "cell_type": "code",
   "execution_count": 7,
   "id": "86162abb",
   "metadata": {},
   "outputs": [],
   "source": [
    "def scraping_data(df, driver):\n",
    "    s_df = pd.read_html(driver.page_source)[0]\n",
    "    s_df = s_df.drop(['S.N.'], axis=1)\n",
    "    return s_df"
   ]
  },
  {
   "cell_type": "code",
   "execution_count": 8,
   "id": "e25ca886",
   "metadata": {},
   "outputs": [],
   "source": [
    "for i in range(92):\n",
    "    driver.find_element_by_xpath('//*[@id=\"myTable_next\"]').click()\n",
    "    time.sleep(2)\n",
    "    data = scraping_data(df, driver)\n",
    "    df = pd.concat([df, data]).reset_index(drop=True)"
   ]
  },
  {
   "cell_type": "code",
   "execution_count": 9,
   "id": "88f4c9a3",
   "metadata": {},
   "outputs": [
    {
     "name": "stdout",
     "output_type": "stream",
     "text": [
      "         Open     High      Low    Close  Change  Per Change (%)  \\\n",
      "0     1965.44  1974.60  1953.15  1969.18    4.26            0.21   \n",
      "1     2009.98  2010.02  1961.67  1964.91  -42.14           -2.09   \n",
      "2     1967.26  2007.06  1967.26  2007.06   39.48            2.00   \n",
      "3     1987.16  1998.17  1962.97  1967.57  -19.42           -0.97   \n",
      "4     1942.98  1986.99  1942.25  1986.99   44.30            2.28   \n",
      "...       ...      ...      ...      ...     ...             ...   \n",
      "1839  1160.09  1160.09  1160.09  1160.09  -16.77           -1.42   \n",
      "1840  1176.86  1176.86  1176.86  1176.86   -6.50           -0.55   \n",
      "1841  1183.36  1183.36  1183.36  1183.36   27.28            2.35   \n",
      "1842  1156.08  1156.08  1156.08  1156.08  -39.94           -3.34   \n",
      "1843  1196.02  1196.02  1196.02  1196.02   -6.79           -0.56   \n",
      "\n",
      "          Turnover        Date  \n",
      "0     8.704442e+08  2023-09-18  \n",
      "1     2.028466e+09  2023-09-17  \n",
      "2     1.495522e+09  2023-09-13  \n",
      "3     1.135058e+09  2023-09-12  \n",
      "4     1.518343e+09  2023-09-11  \n",
      "...            ...         ...  \n",
      "1839  0.000000e+00  2015-09-28  \n",
      "1840  0.000000e+00  2015-09-24  \n",
      "1841  0.000000e+00  2015-09-23  \n",
      "1842  0.000000e+00  2015-09-22  \n",
      "1843  0.000000e+00  2015-09-17  \n",
      "\n",
      "[1844 rows x 8 columns]\n"
     ]
    }
   ],
   "source": [
    "print(df)"
   ]
  },
  {
   "cell_type": "code",
   "execution_count": 11,
   "id": "b6f32989",
   "metadata": {},
   "outputs": [],
   "source": [
    "df.to_csv(\"NEPSEindex.csv\")"
   ]
  },
  {
   "cell_type": "code",
   "execution_count": null,
   "id": "7dad88d9",
   "metadata": {},
   "outputs": [],
   "source": []
  }
 ],
 "metadata": {
  "kernelspec": {
   "display_name": "Python 3 (ipykernel)",
   "language": "python",
   "name": "python3"
  },
  "language_info": {
   "codemirror_mode": {
    "name": "ipython",
    "version": 3
   },
   "file_extension": ".py",
   "mimetype": "text/x-python",
   "name": "python",
   "nbconvert_exporter": "python",
   "pygments_lexer": "ipython3",
   "version": "3.11.3"
  }
 },
 "nbformat": 4,
 "nbformat_minor": 5
}
