{
 "cells": [
  {
   "cell_type": "code",
   "execution_count": 1,
   "id": "9bb50ab4",
   "metadata": {},
   "outputs": [],
   "source": [
    "import pandas as pd\n",
    "from sklearn.model_selection import train_test_split"
   ]
  },
  {
   "cell_type": "code",
   "execution_count": 5,
   "id": "12dbbd2e",
   "metadata": {},
   "outputs": [],
   "source": [
    "import pandas as pd\n",
    "from sklearn.model_selection import train_test_split\n",
    "\n",
    "# Load the organized data\n",
    "df = pd.read_csv('organized_final_data.csv')\n",
    "\n",
    "# Split the data into features (X) and target (y)\n",
    "X = df.drop('Output', axis=1)\n",
    "y = df['Output']\n",
    "\n",
    "# First, split the data into a training set and a temporary set (combining validation and test)\n",
    "X_train, X_temp, y_train, y_temp = train_test_split(X, y, test_size=0.4, random_state=42)\n",
    "\n",
    "# Next, split the temporary set into validation and test sets\n",
    "X_val, X_test, y_val, y_test = train_test_split(X_temp, y_temp, test_size=0.5, random_state=42)\n",
    "\n",
    "# Save the train, validation, and test sets\n",
    "train_set = pd.concat([X_train, y_train], axis=1)\n",
    "val_set = pd.concat([X_val, y_val], axis=1)\n",
    "test_set = pd.concat([X_test, y_test], axis=1)"
   ]
  },
  {
   "cell_type": "code",
   "execution_count": 6,
   "id": "3a785bc7",
   "metadata": {},
   "outputs": [],
   "source": [
    "# First, split the data into a training set and a temporary set (combining validation and test)\n",
    "X_train, X_temp, y_train, y_temp = train_test_split(X, y, test_size=0.4, random_state=42)\n",
    "\n",
    "# Next, split the temporary set into validation and test sets\n",
    "X_val, X_test, y_val, y_test = train_test_split(X_temp, y_temp, test_size=0.5, random_state=42)"
   ]
  },
  {
   "cell_type": "code",
   "execution_count": 7,
   "id": "bc9d8da7",
   "metadata": {},
   "outputs": [],
   "source": [
    "# Save the train, validation, and test sets\n",
    "train_set = pd.concat([X_train, y_train], axis=1)\n",
    "val_set = pd.concat([X_val, y_val], axis=1)\n",
    "test_set = pd.concat([X_test, y_test], axis=1)"
   ]
  },
  {
   "cell_type": "code",
   "execution_count": 8,
   "id": "d9334438",
   "metadata": {},
   "outputs": [],
   "source": [
    "train_set.to_csv('train, test, valid/train_data.csv', index=False)\n",
    "val_set.to_csv('train, test, valid/val_data.csv', index=False)\n",
    "test_set.to_csv('train, test, valid/test_data.csv', index=False)"
   ]
  },
  {
   "cell_type": "code",
   "execution_count": null,
   "id": "e8196cc0",
   "metadata": {},
   "outputs": [],
   "source": []
  }
 ],
 "metadata": {
  "kernelspec": {
   "display_name": "Python 3 (ipykernel)",
   "language": "python",
   "name": "python3"
  },
  "language_info": {
   "codemirror_mode": {
    "name": "ipython",
    "version": 3
   },
   "file_extension": ".py",
   "mimetype": "text/x-python",
   "name": "python",
   "nbconvert_exporter": "python",
   "pygments_lexer": "ipython3",
   "version": "3.11.3"
  }
 },
 "nbformat": 4,
 "nbformat_minor": 5
}
